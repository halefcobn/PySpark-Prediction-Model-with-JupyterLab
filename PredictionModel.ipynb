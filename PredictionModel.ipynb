{
 "cells": [
  {
   "cell_type": "code",
   "execution_count": 3,
   "metadata": {},
   "outputs": [],
   "source": [
    "from pyspark.sql import SparkSession"
   ]
  },
  {
   "cell_type": "code",
   "execution_count": 4,
   "metadata": {},
   "outputs": [
    {
     "name": "stderr",
     "output_type": "stream",
     "text": [
      "Setting default log level to \"WARN\".\n",
      "To adjust logging level use sc.setLogLevel(newLevel). For SparkR, use setLogLevel(newLevel).\n"
     ]
    },
    {
     "name": "stdout",
     "output_type": "stream",
     "text": [
      "22/09/16 14:28:34 WARN NativeCodeLoader: Unable to load native-hadoop library for your platform... using builtin-java classes where applicable\n",
      "22/09/16 14:28:36 WARN Utils: Service 'SparkUI' could not bind on port 4040. Attempting port 4041.\n"
     ]
    }
   ],
   "source": [
    "spark= SparkSession.builder.appName(\"Regression\").getOrCreate()"
   ]
  },
  {
   "cell_type": "code",
   "execution_count": 5,
   "metadata": {},
   "outputs": [
    {
     "data": {
      "text/html": [
       "\n",
       "            <div>\n",
       "                <p><b>SparkSession - in-memory</b></p>\n",
       "                \n",
       "        <div>\n",
       "            <p><b>SparkContext</b></p>\n",
       "\n",
       "            <p><a href=\"http://192.168.231.37:4041\">Spark UI</a></p>\n",
       "\n",
       "            <dl>\n",
       "              <dt>Version</dt>\n",
       "                <dd><code>v3.3.0</code></dd>\n",
       "              <dt>Master</dt>\n",
       "                <dd><code>local[*]</code></dd>\n",
       "              <dt>AppName</dt>\n",
       "                <dd><code>Regression</code></dd>\n",
       "            </dl>\n",
       "        </div>\n",
       "        \n",
       "            </div>\n",
       "        "
      ],
      "text/plain": [
       "<pyspark.sql.session.SparkSession at 0x7fa664ed0430>"
      ]
     },
     "execution_count": 5,
     "metadata": {},
     "output_type": "execute_result"
    }
   ],
   "source": [
    "spark"
   ]
  },
  {
   "cell_type": "code",
   "execution_count": 8,
   "metadata": {},
   "outputs": [],
   "source": [
    "path=\"smoke_detection_iot.csv\""
   ]
  },
  {
   "cell_type": "code",
   "execution_count": 9,
   "metadata": {},
   "outputs": [
    {
     "name": "stderr",
     "output_type": "stream",
     "text": [
      "                                                                                \r"
     ]
    }
   ],
   "source": [
    "training = spark.read.csv(path, header=True, inferSchema=True)"
   ]
  },
  {
   "cell_type": "code",
   "execution_count": 12,
   "metadata": {},
   "outputs": [
    {
     "name": "stdout",
     "output_type": "stream",
     "text": [
      "22/09/16 14:34:59 WARN CSVHeaderChecker: CSV header does not conform to the schema.\n",
      " Header: , UTC, Temperature[C], Humidity[%], TVOC[ppb], eCO2[ppm], Raw H2, Raw Ethanol, Pressure[hPa], PM1.0, PM2.5, NC0.5, NC1.0, NC2.5, CNT, Fire Alarm\n",
      " Schema: _c0, UTC, Temperature[C], Humidity[%], TVOC[ppb], eCO2[ppm], Raw H2, Raw Ethanol, Pressure[hPa], PM1.0, PM2.5, NC0.5, NC1.0, NC2.5, CNT, Fire Alarm\n",
      "Expected: _c0 but found: \n",
      "CSV file: file:///Users/halef/Desktop/Coursera/PySpark/smoke_detection_iot.csv\n",
      "+---+----------+--------------+-----------+---------+---------+------+-----------+-------------+-----+-----+-----+-----+-----+---+----------+\n",
      "|_c0|       UTC|Temperature[C]|Humidity[%]|TVOC[ppb]|eCO2[ppm]|Raw H2|Raw Ethanol|Pressure[hPa]|PM1.0|PM2.5|NC0.5|NC1.0|NC2.5|CNT|Fire Alarm|\n",
      "+---+----------+--------------+-----------+---------+---------+------+-----------+-------------+-----+-----+-----+-----+-----+---+----------+\n",
      "|  0|1654733331|          20.0|      57.36|        0|      400| 12306|      18520|      939.735|  0.0|  0.0|  0.0|  0.0|  0.0|  0|         0|\n",
      "|  1|1654733332|        20.015|      56.67|        0|      400| 12345|      18651|      939.744|  0.0|  0.0|  0.0|  0.0|  0.0|  1|         0|\n",
      "|  2|1654733333|        20.029|      55.96|        0|      400| 12374|      18764|      939.738|  0.0|  0.0|  0.0|  0.0|  0.0|  2|         0|\n",
      "|  3|1654733334|        20.044|      55.28|        0|      400| 12390|      18849|      939.736|  0.0|  0.0|  0.0|  0.0|  0.0|  3|         0|\n",
      "|  4|1654733335|        20.059|      54.69|        0|      400| 12403|      18921|      939.744|  0.0|  0.0|  0.0|  0.0|  0.0|  4|         0|\n",
      "|  5|1654733336|        20.073|      54.12|        0|      400| 12419|      18998|      939.725|  0.0|  0.0|  0.0|  0.0|  0.0|  5|         0|\n",
      "|  6|1654733337|        20.088|      53.61|        0|      400| 12432|      19058|      939.738|  0.0|  0.0|  0.0|  0.0|  0.0|  6|         0|\n",
      "|  7|1654733338|        20.103|       53.2|        0|      400| 12439|      19114|      939.758|  0.0|  0.0|  0.0|  0.0|  0.0|  7|         0|\n",
      "|  8|1654733339|        20.117|      52.81|        0|      400| 12448|      19155|      939.758|  0.0|  0.0|  0.0|  0.0|  0.0|  8|         0|\n",
      "|  9|1654733340|        20.132|      52.46|        0|      400| 12453|      19195|      939.756|  0.9| 3.78|  0.0|4.369| 2.78|  9|         0|\n",
      "| 10|1654733341|        20.146|      52.15|        0|      400| 12454|      19230|      939.757| 0.89| 3.71|  0.0|4.289| 2.73| 10|         0|\n",
      "| 11|1654733342|        20.161|      51.84|        0|      400| 12467|      19264|      939.754| 0.84| 3.51|  0.0|4.053| 2.58| 11|         0|\n",
      "| 12|1654733343|        20.175|      51.62|        0|      400| 12467|      19299|      939.755| 0.81| 3.38|  0.0|3.909|2.488| 12|         0|\n",
      "| 13|1654733344|         20.19|      51.39|        0|      400| 12469|      19317|      939.758| 0.74| 3.11|  0.0|3.588|2.284| 13|         0|\n",
      "| 14|1654733345|        20.204|      51.17|        0|      403| 12468|      19338|      939.742| 0.71| 2.96|  0.0|3.419|2.176| 14|         0|\n",
      "| 15|1654733346|        20.219|      50.99|        0|      400| 12475|      19362|      939.741| 0.64| 2.66|  0.0|3.077|1.959| 15|         0|\n",
      "| 16|1654733347|        20.233|      50.86|        0|      400| 12480|      19382|      939.758|  0.6| 2.52|  0.0|2.908|1.851| 16|         0|\n",
      "| 17|1654733348|        20.248|      50.66|        0|      400| 12477|      19400|      939.764| 0.53| 2.23|  0.0| 2.58|1.642| 17|         0|\n",
      "| 18|1654733349|        20.262|      50.49|        0|      400| 12481|      19422|      939.761|  0.5|  2.1|  0.0|2.423|1.542| 18|         0|\n",
      "| 19|1654733350|        20.277|      50.27|        0|      406| 12489|      19451|      939.752| 0.41| 1.72|  0.0|1.987|1.265| 19|         0|\n",
      "| 20|1654733351|        20.291|      50.15|        0|      400| 12491|      19456|      939.729| 0.38|  1.6|  0.0|1.855| 1.18| 20|         0|\n",
      "| 21|1654733352|        20.305|      50.02|        0|      400| 12487|      19470|      939.741| 0.33| 1.39|  0.0| 1.61|1.024| 21|         0|\n",
      "| 22|1654733353|         20.32|      49.96|        0|      400| 12492|      19489|      939.756| 0.31|  1.3|  0.0|1.497|0.953| 22|         0|\n",
      "| 23|1654733354|        20.334|      49.83|        0|      415| 12495|      19489|      939.764| 0.27| 1.12|  0.0|1.291|0.821| 23|         0|\n",
      "| 24|1654733355|        20.348|      49.76|        0|      400| 12498|      19503|       939.77| 0.25| 1.04|  0.0|1.197|0.762| 24|         0|\n",
      "| 25|1654733356|        20.363|      49.65|        0|      401| 12499|      19516|      939.774| 0.21| 0.89|  0.0|1.026|0.653| 25|         0|\n",
      "| 26|1654733357|        20.377|      49.58|        0|      404| 12503|      19525|      939.771|  0.2| 0.82|  0.0|0.949|0.604| 26|         0|\n",
      "| 27|1654733358|        20.391|      49.37|       30|      445| 12478|      19500|      939.771| 0.17| 0.58| 0.14|0.665|0.398| 27|         0|\n",
      "| 28|1654733359|        20.406|      49.58|       36|      455| 12472|      19487|       939.77| 0.16| 0.56| 0.13|0.644|0.385| 28|         0|\n",
      "| 29|1654733360|         20.42|      50.11|       20|      443| 12471|      19493|      939.775| 0.15| 0.52| 0.12|0.595|0.356| 29|         0|\n",
      "| 30|1654733361|        20.434|      50.68|       16|      435| 12481|      19509|      939.772| 0.14|  0.5| 0.12|0.569| 0.34| 30|         0|\n",
      "| 31|1654733362|        20.448|      51.23|        8|      440| 12482|      19520|      939.772| 0.13| 0.45| 0.11|0.514|0.308| 31|         0|\n",
      "| 32|1654733363|        20.462|      51.77|       11|      440| 12479|      19515|      939.762| 0.12| 0.42|  0.1|0.487|0.291| 32|         0|\n",
      "| 33|1654733364|        20.477|      52.28|        0|      420| 12486|      19532|      939.769| 0.11| 0.38| 0.09|0.434|0.259| 33|         0|\n",
      "| 34|1654733365|        20.491|      52.74|        0|      414| 12489|      19535|      939.747|  0.1| 0.36| 0.08|0.408|0.244| 34|         0|\n",
      "| 35|1654733366|        20.505|      53.12|        3|      413| 12490|      19541|      939.754| 0.09| 0.31| 0.07|0.359|0.215| 35|         0|\n",
      "| 36|1654733367|        20.519|       53.5|        0|      410| 12491|      19541|      939.755| 0.08| 0.29| 0.07|0.336|0.201| 36|         0|\n",
      "| 37|1654733368|        20.533|      53.84|        0|      413| 12498|      19552|      939.747| 0.07| 0.26| 0.06|0.293|0.175| 37|         0|\n",
      "| 38|1654733369|        20.547|      54.13|        0|      400| 12498|      19569|      939.757| 0.07| 0.24| 0.06|0.273|0.163| 38|         0|\n",
      "| 39|1654733370|        20.561|      54.41|        6|      415| 12491|      19559|      939.761| 0.06| 0.21| 0.05|0.236|0.141| 39|         0|\n",
      "| 40|1654733371|        20.575|      54.67|        7|      406| 12498|      19553|      939.766| 0.06| 0.19| 0.05|0.219|0.131| 40|         0|\n",
      "| 41|1654733372|        20.589|      54.91|        0|      400| 12503|      19578|      939.765| 0.05| 0.18| 0.04|0.204|0.122| 41|         0|\n",
      "| 42|1654733373|        20.603|      55.08|        0|      410| 12497|      19565|      939.761| 0.04| 0.15| 0.04|0.175|0.105| 42|         0|\n",
      "| 43|1654733374|        20.617|      55.28|        0|      400| 12505|      19565|      939.757| 0.04| 0.14| 0.03|0.162|0.097| 43|         0|\n",
      "| 44|1654733375|        20.631|      55.49|        0|      400| 12508|      19581|      939.762| 0.03| 0.12| 0.03|0.138|0.083| 44|         0|\n",
      "| 45|1654733376|        20.645|      55.86|        8|      404| 12501|      19574|      939.754| 0.03| 0.09| 0.02|  0.1| 0.06| 45|         0|\n",
      "| 46|1654733377|        20.659|      55.99|        9|      406| 12505|      19582|      939.754| 0.02| 0.08| 0.02|0.092|0.055| 46|         0|\n",
      "| 47|1654733378|        20.673|      56.11|        0|      400| 12507|      19585|      939.745| 0.02| 0.07| 0.02|0.078|0.047| 47|         0|\n",
      "| 48|1654733379|        20.687|      56.18|        0|      400| 12514|      19594|      939.741| 0.02| 0.06| 0.01|0.072|0.043| 48|         0|\n",
      "| 49|1654733380|        20.701|      56.32|        0|      408| 12510|      19587|      939.722| 0.02| 0.05| 0.01|0.061|0.036| 49|         0|\n",
      "| 50|1654733381|        20.715|      56.36|        6|      416| 12503|      19580|      939.711| 0.01| 0.05| 0.01|0.056|0.033| 50|         0|\n",
      "| 51|1654733382|        20.729|      56.47|       14|      411| 12508|      19587|      939.701| 0.01| 0.04| 0.01|0.047|0.028| 51|         0|\n",
      "| 52|1654733383|        20.743|      56.55|       11|      404| 12512|      19596|      939.693| 0.01| 0.04| 0.01|0.043|0.026| 52|         0|\n",
      "| 53|1654733384|        20.756|       56.6|       11|      404| 12513|      19591|      939.707| 0.01| 0.03| 0.01|0.036|0.022| 53|         0|\n",
      "| 54|1654733385|         20.77|      56.66|        4|      400| 12514|      19595|      939.718| 0.01| 0.03| 0.01|0.033| 0.02| 54|         0|\n",
      "+---+----------+--------------+-----------+---------+---------+------+-----------+-------------+-----+-----+-----+-----+-----+---+----------+\n",
      "only showing top 55 rows\n",
      "\n"
     ]
    }
   ],
   "source": [
    "training.show(55)"
   ]
  },
  {
   "cell_type": "code",
   "execution_count": 19,
   "metadata": {},
   "outputs": [
    {
     "name": "stdout",
     "output_type": "stream",
     "text": [
      "22/09/16 14:40:10 WARN CSVHeaderChecker: CSV header does not conform to the schema.\n",
      " Header: , UTC, Temperature[C], Humidity[%], TVOC[ppb], eCO2[ppm], Raw H2, Raw Ethanol, Pressure[hPa], PM1.0, PM2.5, NC0.5, NC1.0, NC2.5, CNT, Fire Alarm\n",
      " Schema: _c0, UTC, Temperature[C], Humidity[%], TVOC[ppb], eCO2[ppm], Raw H2, Raw Ethanol, Pressure[hPa], PM1.0, PM2.5, NC0.5, NC1.0, NC2.5, CNT, Fire Alarm\n",
      "Expected: _c0 but found: \n",
      "CSV file: file:///Users/halef/Desktop/Coursera/PySpark/smoke_detection_iot.csv\n",
      "+----+----------+--------------+-----------+---------+---------+------+-----------+-------------+-----+-----+-----+-----+-----+----+----------+\n",
      "| _c0|       UTC|Temperature[C]|Humidity[%]|TVOC[ppb]|eCO2[ppm]|Raw H2|Raw Ethanol|Pressure[hPa]|PM1.0|PM2.5|NC0.5|NC1.0|NC2.5| CNT|Fire Alarm|\n",
      "+----+----------+--------------+-----------+---------+---------+------+-----------+-------------+-----+-----+-----+-----+-----+----+----------+\n",
      "|3178|1654736509|         9.381|      56.86|       11|      400| 13347|      20160|      939.575| 1.78| 1.85|12.25|1.911|0.043|3178|         1|\n",
      "|3179|1654736510|         9.368|       58.6|        0|      400| 13385|      20202|      939.574|  1.8| 1.87|12.41|1.935|0.044|3179|         1|\n",
      "|3180|1654736511|         9.356|      60.38|        0|      400| 13388|      20248|      938.858| 1.94| 2.01|13.32|2.077|0.047|3180|         1|\n",
      "|3181|1654736512|         9.343|      62.22|        0|      400| 13443|      20315|      939.044|  2.0| 2.08|13.75|2.145|0.048|3181|         1|\n",
      "+----+----------+--------------+-----------+---------+---------+------+-----------+-------------+-----+-----+-----+-----+-----+----+----------+\n",
      "only showing top 4 rows\n",
      "\n"
     ]
    }
   ],
   "source": [
    "training.filter((training[\"Fire Alarm\"]>0)).show(4)"
   ]
  },
  {
   "cell_type": "code",
   "execution_count": 22,
   "metadata": {},
   "outputs": [
    {
     "name": "stdout",
     "output_type": "stream",
     "text": [
      "+----------+\n",
      "|Fire Alarm|\n",
      "+----------+\n",
      "|         1|\n",
      "|         0|\n",
      "+----------+\n",
      "\n"
     ]
    }
   ],
   "source": [
    "training.select(\"Fire Alarm\").distinct().show()"
   ]
  },
  {
   "cell_type": "code",
   "execution_count": null,
   "metadata": {},
   "outputs": [],
   "source": [
    "# As it is seen on the table that our target value (dependent variable is Fire Alarm)\n",
    "# We have only 0 and 1 vales which mean that there is a fire or not.\n",
    "# Let's choose the independet variables.\n",
    "\n",
    "# [\"Temperature[C]\",\"Humidity[%]\",\"Raw Ethanol\", \"Pressure[hPa]\",\"eCO2[ppm]\"]---------->>> will be our independent variables.\n",
    "\n"
   ]
  },
  {
   "cell_type": "code",
   "execution_count": 23,
   "metadata": {},
   "outputs": [],
   "source": [
    "from pyspark.ml.feature import VectorAssembler\n"
   ]
  },
  {
   "cell_type": "code",
   "execution_count": 32,
   "metadata": {},
   "outputs": [],
   "source": [
    "feature_assembler=  VectorAssembler(inputCols=[\"Temperature[C]\",\"Humidity[%]\",\"Raw Ethanol\", \"Pressure[hPa]\",\"eCO2[ppm]\"], outputCol=\"Independent Variables\")"
   ]
  },
  {
   "cell_type": "code",
   "execution_count": 33,
   "metadata": {},
   "outputs": [],
   "source": [
    "output = feature_assembler.transform(training)"
   ]
  },
  {
   "cell_type": "code",
   "execution_count": 34,
   "metadata": {},
   "outputs": [
    {
     "name": "stdout",
     "output_type": "stream",
     "text": [
      "22/09/16 14:56:20 WARN CSVHeaderChecker: CSV header does not conform to the schema.\n",
      " Header: , UTC, Temperature[C], Humidity[%], TVOC[ppb], eCO2[ppm], Raw H2, Raw Ethanol, Pressure[hPa], PM1.0, PM2.5, NC0.5, NC1.0, NC2.5, CNT, Fire Alarm\n",
      " Schema: _c0, UTC, Temperature[C], Humidity[%], TVOC[ppb], eCO2[ppm], Raw H2, Raw Ethanol, Pressure[hPa], PM1.0, PM2.5, NC0.5, NC1.0, NC2.5, CNT, Fire Alarm\n",
      "Expected: _c0 but found: \n",
      "CSV file: file:///Users/halef/Desktop/Coursera/PySpark/smoke_detection_iot.csv\n",
      "+---+----------+--------------+-----------+---------+---------+------+-----------+-------------+-----+-----+-----+-----+-----+---+----------+---------------------+\n",
      "|_c0|       UTC|Temperature[C]|Humidity[%]|TVOC[ppb]|eCO2[ppm]|Raw H2|Raw Ethanol|Pressure[hPa]|PM1.0|PM2.5|NC0.5|NC1.0|NC2.5|CNT|Fire Alarm|Independent Variables|\n",
      "+---+----------+--------------+-----------+---------+---------+------+-----------+-------------+-----+-----+-----+-----+-----+---+----------+---------------------+\n",
      "|  0|1654733331|          20.0|      57.36|        0|      400| 12306|      18520|      939.735|  0.0|  0.0|  0.0|  0.0|  0.0|  0|         0| [20.0,57.36,18520...|\n",
      "|  1|1654733332|        20.015|      56.67|        0|      400| 12345|      18651|      939.744|  0.0|  0.0|  0.0|  0.0|  0.0|  1|         0| [20.015,56.67,186...|\n",
      "|  2|1654733333|        20.029|      55.96|        0|      400| 12374|      18764|      939.738|  0.0|  0.0|  0.0|  0.0|  0.0|  2|         0| [20.029,55.96,187...|\n",
      "|  3|1654733334|        20.044|      55.28|        0|      400| 12390|      18849|      939.736|  0.0|  0.0|  0.0|  0.0|  0.0|  3|         0| [20.044,55.28,188...|\n",
      "|  4|1654733335|        20.059|      54.69|        0|      400| 12403|      18921|      939.744|  0.0|  0.0|  0.0|  0.0|  0.0|  4|         0| [20.059,54.69,189...|\n",
      "|  5|1654733336|        20.073|      54.12|        0|      400| 12419|      18998|      939.725|  0.0|  0.0|  0.0|  0.0|  0.0|  5|         0| [20.073,54.12,189...|\n",
      "|  6|1654733337|        20.088|      53.61|        0|      400| 12432|      19058|      939.738|  0.0|  0.0|  0.0|  0.0|  0.0|  6|         0| [20.088,53.61,190...|\n",
      "|  7|1654733338|        20.103|       53.2|        0|      400| 12439|      19114|      939.758|  0.0|  0.0|  0.0|  0.0|  0.0|  7|         0| [20.103,53.2,1911...|\n",
      "|  8|1654733339|        20.117|      52.81|        0|      400| 12448|      19155|      939.758|  0.0|  0.0|  0.0|  0.0|  0.0|  8|         0| [20.117,52.81,191...|\n",
      "|  9|1654733340|        20.132|      52.46|        0|      400| 12453|      19195|      939.756|  0.9| 3.78|  0.0|4.369| 2.78|  9|         0| [20.132,52.46,191...|\n",
      "| 10|1654733341|        20.146|      52.15|        0|      400| 12454|      19230|      939.757| 0.89| 3.71|  0.0|4.289| 2.73| 10|         0| [20.146,52.15,192...|\n",
      "| 11|1654733342|        20.161|      51.84|        0|      400| 12467|      19264|      939.754| 0.84| 3.51|  0.0|4.053| 2.58| 11|         0| [20.161,51.84,192...|\n",
      "| 12|1654733343|        20.175|      51.62|        0|      400| 12467|      19299|      939.755| 0.81| 3.38|  0.0|3.909|2.488| 12|         0| [20.175,51.62,192...|\n",
      "| 13|1654733344|         20.19|      51.39|        0|      400| 12469|      19317|      939.758| 0.74| 3.11|  0.0|3.588|2.284| 13|         0| [20.19,51.39,1931...|\n",
      "| 14|1654733345|        20.204|      51.17|        0|      403| 12468|      19338|      939.742| 0.71| 2.96|  0.0|3.419|2.176| 14|         0| [20.204,51.17,193...|\n",
      "| 15|1654733346|        20.219|      50.99|        0|      400| 12475|      19362|      939.741| 0.64| 2.66|  0.0|3.077|1.959| 15|         0| [20.219,50.99,193...|\n",
      "| 16|1654733347|        20.233|      50.86|        0|      400| 12480|      19382|      939.758|  0.6| 2.52|  0.0|2.908|1.851| 16|         0| [20.233,50.86,193...|\n",
      "| 17|1654733348|        20.248|      50.66|        0|      400| 12477|      19400|      939.764| 0.53| 2.23|  0.0| 2.58|1.642| 17|         0| [20.248,50.66,194...|\n",
      "| 18|1654733349|        20.262|      50.49|        0|      400| 12481|      19422|      939.761|  0.5|  2.1|  0.0|2.423|1.542| 18|         0| [20.262,50.49,194...|\n",
      "| 19|1654733350|        20.277|      50.27|        0|      406| 12489|      19451|      939.752| 0.41| 1.72|  0.0|1.987|1.265| 19|         0| [20.277,50.27,194...|\n",
      "+---+----------+--------------+-----------+---------+---------+------+-----------+-------------+-----+-----+-----+-----+-----+---+----------+---------------------+\n",
      "only showing top 20 rows\n",
      "\n"
     ]
    }
   ],
   "source": [
    "output.show()"
   ]
  },
  {
   "cell_type": "code",
   "execution_count": 35,
   "metadata": {},
   "outputs": [
    {
     "data": {
      "text/plain": [
       "['_c0',\n",
       " 'UTC',\n",
       " 'Temperature[C]',\n",
       " 'Humidity[%]',\n",
       " 'TVOC[ppb]',\n",
       " 'eCO2[ppm]',\n",
       " 'Raw H2',\n",
       " 'Raw Ethanol',\n",
       " 'Pressure[hPa]',\n",
       " 'PM1.0',\n",
       " 'PM2.5',\n",
       " 'NC0.5',\n",
       " 'NC1.0',\n",
       " 'NC2.5',\n",
       " 'CNT',\n",
       " 'Fire Alarm',\n",
       " 'Independent Variables']"
      ]
     },
     "execution_count": 35,
     "metadata": {},
     "output_type": "execute_result"
    }
   ],
   "source": [
    "output.columns"
   ]
  },
  {
   "cell_type": "code",
   "execution_count": 38,
   "metadata": {},
   "outputs": [],
   "source": [
    "# The IndependentVariables are shown there adn let get finalize the data.\n",
    "\n",
    "final_data = output.select(\"Independent Variables\",\"Fire Alarm\")\n",
    "\n"
   ]
  },
  {
   "cell_type": "code",
   "execution_count": 41,
   "metadata": {},
   "outputs": [
    {
     "name": "stdout",
     "output_type": "stream",
     "text": [
      "+---------------------+----------+\n",
      "|Independent Variables|Fire Alarm|\n",
      "+---------------------+----------+\n",
      "| [20.0,57.36,18520...|         0|\n",
      "| [20.015,56.67,186...|         0|\n",
      "| [20.029,55.96,187...|         0|\n",
      "| [20.044,55.28,188...|         0|\n",
      "| [20.059,54.69,189...|         0|\n",
      "+---------------------+----------+\n",
      "only showing top 5 rows\n",
      "\n"
     ]
    }
   ],
   "source": [
    "final_data.show(5)"
   ]
  },
  {
   "cell_type": "code",
   "execution_count": 43,
   "metadata": {},
   "outputs": [],
   "source": [
    "from pyspark.ml.regression import LinearRegression"
   ]
  },
  {
   "cell_type": "code",
   "execution_count": 47,
   "metadata": {},
   "outputs": [
    {
     "name": "stdout",
     "output_type": "stream",
     "text": [
      "22/09/16 15:01:54 WARN Instrumentation: [4ca28167] regParam is zero, which might cause numerical instability and overfitting.\n"
     ]
    },
    {
     "name": "stderr",
     "output_type": "stream",
     "text": [
      "                                                                                \r"
     ]
    }
   ],
   "source": [
    "train_data, test_data = final_data.randomSplit([0.75,0.25])\n",
    "regressor = LinearRegression(featuresCol= \"Independent Variables\", labelCol=\"Fire Alarm\")\n",
    "regressor=regressor.fit(train_data)"
   ]
  },
  {
   "cell_type": "code",
   "execution_count": 48,
   "metadata": {},
   "outputs": [
    {
     "data": {
      "text/plain": [
       "DenseVector([-0.0033, 0.0244, -0.0004, -0.0764, -0.0001])"
      ]
     },
     "execution_count": 48,
     "metadata": {},
     "output_type": "execute_result"
    }
   ],
   "source": [
    "regressor.coefficients"
   ]
  },
  {
   "cell_type": "code",
   "execution_count": 49,
   "metadata": {},
   "outputs": [
    {
     "data": {
      "text/plain": [
       "78.92938678886158"
      ]
     },
     "execution_count": 49,
     "metadata": {},
     "output_type": "execute_result"
    }
   ],
   "source": [
    "regressor.intercept"
   ]
  },
  {
   "cell_type": "code",
   "execution_count": 50,
   "metadata": {},
   "outputs": [],
   "source": [
    "prediction_results = regressor.evaluate(test_data)"
   ]
  },
  {
   "cell_type": "code",
   "execution_count": 53,
   "metadata": {},
   "outputs": [
    {
     "name": "stdout",
     "output_type": "stream",
     "text": [
      "+---------------------+----------+------------------+\n",
      "|Independent Variables|Fire Alarm|        prediction|\n",
      "+---------------------+----------+------------------+\n",
      "| [-22.01,47.99,193...|         1| 0.974931344472509|\n",
      "| [-22.01,48.02,193...|         1|0.9779545556699532|\n",
      "| [-22.01,48.25,193...|         1|0.9797398610176202|\n",
      "| [-22.01,49.24,193...|         1|1.0100389475031477|\n",
      "| [-22.009,51.21,19...|         1|1.0577128204452464|\n",
      "+---------------------+----------+------------------+\n",
      "only showing top 5 rows\n",
      "\n"
     ]
    }
   ],
   "source": [
    "prediction_results.predictions.show(5)"
   ]
  },
  {
   "cell_type": "code",
   "execution_count": 56,
   "metadata": {},
   "outputs": [
    {
     "data": {
      "text/plain": [
       "0.280494792178067"
      ]
     },
     "execution_count": 56,
     "metadata": {},
     "output_type": "execute_result"
    }
   ],
   "source": [
    "prediction_results.meanAbsoluteError \n"
   ]
  },
  {
   "cell_type": "markdown",
   "metadata": {},
   "source": [
    "It is easily seen that mae values is close to 0 and we can say that our model is highly accurate."
   ]
  },
  {
   "cell_type": "code",
   "execution_count": 57,
   "metadata": {},
   "outputs": [
    {
     "data": {
      "text/plain": [
       "0.13143417141901664"
      ]
     },
     "execution_count": 57,
     "metadata": {},
     "output_type": "execute_result"
    }
   ],
   "source": [
    "prediction_results.meanSquaredError"
   ]
  },
  {
   "cell_type": "markdown",
   "metadata": {},
   "source": [
    "It is easily seen that mean square error error is close to 0 and we can say that our model is more accurate.\n",
    "We can state that our model is perfect estimator."
   ]
  },
  {
   "cell_type": "code",
   "execution_count": null,
   "metadata": {},
   "outputs": [],
   "source": []
  }
 ],
 "metadata": {
  "kernelspec": {
   "display_name": "Python 3.9.12 ('base')",
   "language": "python",
   "name": "python3"
  },
  "language_info": {
   "codemirror_mode": {
    "name": "ipython",
    "version": 3
   },
   "file_extension": ".py",
   "mimetype": "text/x-python",
   "name": "python",
   "nbconvert_exporter": "python",
   "pygments_lexer": "ipython3",
   "version": "3.9.12"
  },
  "orig_nbformat": 4,
  "vscode": {
   "interpreter": {
    "hash": "3fe5a750161903c2a52830aabb3d8fea2ca467d671956af063c191e5022af088"
   }
  }
 },
 "nbformat": 4,
 "nbformat_minor": 2
}
